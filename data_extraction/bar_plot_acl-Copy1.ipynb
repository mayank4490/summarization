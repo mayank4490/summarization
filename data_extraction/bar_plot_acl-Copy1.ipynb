{
 "cells": [
  {
   "cell_type": "code",
   "execution_count": 3,
   "metadata": {},
   "outputs": [],
   "source": [
    "import plotly\n",
    "plotly.tools.set_credentials_file(username='gly', api_key='ymCD24y3EuXTi11yxaHn')"
   ]
  },
  {
   "cell_type": "code",
   "execution_count": 4,
   "metadata": {},
   "outputs": [],
   "source": [
    "import plotly.plotly as py\n",
    "import plotly.graph_objs as go"
   ]
  },
  {
   "cell_type": "code",
   "execution_count": 5,
   "metadata": {},
   "outputs": [],
   "source": [
    "from bs4 import BeautifulSoup"
   ]
  },
  {
   "cell_type": "code",
   "execution_count": 6,
   "metadata": {},
   "outputs": [],
   "source": [
    "x=[]\n",
    "y=[]"
   ]
  },
  {
   "cell_type": "code",
   "execution_count": 7,
   "metadata": {},
   "outputs": [],
   "source": [
    "for j in range(79,100):\n",
    "    n1='acl/acl'+str(j)+'.txt'\n",
    "    #n2='naacl/naacl'+str(j)+'.txt'\n",
    "    #n3='emnlp/emnlp'+str(j)+'.txt'\n",
    "    #print(j)\n",
    "    f1=open(n1,'r')\n",
    "    #f2=open(n2,'r')\n",
    "    #f3=open(n3,'r')\n",
    "    try:\n",
    "        soup1=BeautifulSoup(f1,'html.parser')\n",
    "        xn=1900+j\n",
    "        x.append(xn)\n",
    "    except:\n",
    "        continue\n",
    "    #soup2=BeautifulSoup(f2,'html.parser')\n",
    "    #soup3=BeautifulSoup(f3,'html.parser')\n",
    "    result1=soup1.find_all('paper')\n",
    "    #result2=soup2.find_all('paper')\n",
    "    #result3=soup3.find_all('paper')\n",
    "    result= len(result1)\n",
    "    y.append(result)"
   ]
  },
  {
   "cell_type": "code",
   "execution_count": 8,
   "metadata": {},
   "outputs": [
    {
     "name": "stdout",
     "output_type": "stream",
     "text": [
      "[1979, 1980, 1981, 1982, 1983, 1984, 1985, 1986, 1987, 1988, 1989, 1990, 1991, 1992, 1993, 1994, 1995, 1996, 1997, 1998, 1999] [28, 44, 36, 39, 25, 116, 40, 41, 34, 35, 34, 39, 56, 54, 47, 52, 56, 58, 73, 122, 83]\n"
     ]
    }
   ],
   "source": [
    "print(x,y)"
   ]
  },
  {
   "cell_type": "code",
   "execution_count": 9,
   "metadata": {},
   "outputs": [],
   "source": [
    "\n",
    "\n",
    "for j in range(0,19):\n",
    "    n1='acl/acl'+str(j)+'.txt'\n",
    "    #n2='naacl/naacl'+str(j)+'.txt'\n",
    "    #n3='emnlp/emnlp'+str(j)+'.txt'\n",
    "    #print(j)\n",
    "    f1=open(n1,'r')\n",
    "    #f2=open(n2,'r')\n",
    "    #f3=open(n3,'r')\n",
    "    try:\n",
    "        soup1=BeautifulSoup(f1,'html.parser')\n",
    "        xn=2000+j\n",
    "        x.append(xn)\n",
    "    except:\n",
    "        continue\n",
    "    #soup2=BeautifulSoup(f2,'html.parser')\n",
    "    #soup3=BeautifulSoup(f3,'html.parser')\n",
    "    result1=soup1.find_all('paper')\n",
    "    #result2=soup2.find_all('paper')\n",
    "    #result3=soup3.find_all('paper')\n",
    "    result= len(result1)\n",
    "    y.append(result)"
   ]
  },
  {
   "cell_type": "code",
   "execution_count": 10,
   "metadata": {},
   "outputs": [
    {
     "name": "stdout",
     "output_type": "stream",
     "text": [
      "[1979, 1980, 1981, 1982, 1983, 1984, 1985, 1986, 1987, 1988, 1989, 1990, 1991, 1992, 1993, 1994, 1995, 1996, 1997, 1998, 1999, 2000, 2001, 2002, 2003, 2004, 2007, 2008, 2009, 2011, 2012, 2015, 2017] [28, 44, 36, 39, 25, 116, 40, 41, 34, 35, 34, 39, 56, 54, 47, 52, 56, 58, 73, 122, 83, 79, 70, 65, 71, 88, 131, 187, 214, 292, 187, 318, 302]\n"
     ]
    }
   ],
   "source": [
    "print(x,y)"
   ]
  },
  {
   "cell_type": "code",
   "execution_count": 11,
   "metadata": {},
   "outputs": [
    {
     "data": {
      "text/html": [
       "<iframe id=\"igraph\" scrolling=\"no\" style=\"border:none;\" seamless=\"seamless\" src=\"https://plot.ly/~gly/16.embed\" height=\"525px\" width=\"100%\"></iframe>"
      ],
      "text/plain": [
       "<plotly.tools.PlotlyDisplay object>"
      ]
     },
     "execution_count": 11,
     "metadata": {},
     "output_type": "execute_result"
    }
   ],
   "source": [
    "trace=go.Bar( x=x , y=y)\n",
    "data=[trace]\n",
    "py.iplot(data)"
   ]
  },
  {
   "cell_type": "code",
   "execution_count": 18,
   "metadata": {},
   "outputs": [
    {
     "data": {
      "image/png": "[encoded data removed]",
      "text/plain": [
       "<Figure size 640x480 with 1 Axes>"
      ]
     },
     "metadata": {},
     "output_type": "display_data"
    }
   ],
   "source": [
    "import matplotlib.pyplot as plt; plt.rcdefaults()\n",
    "import numpy as np\n",
    "import matplotlib.pyplot as plt\n",
    " \n",
    "#objects = ('Python', 'C++', 'Java', 'Perl', 'Scala', 'Lisp')\n",
    "objects=x\n",
    "y_pos = np.arange(len(objects))\n",
    "performance = y\n",
    " \n",
    "plt.bar(y_pos, performance, align='center', alpha=1)\n",
    "plt.xticks(y_pos, objects)\n",
    "plt.ylabel('papers')\n",
    "plt.title('paper publications')\n",
    " \n",
    "plt.show()"
   ]
  },
  {
   "cell_type": "code",
   "execution_count": null,
   "metadata": {},
   "outputs": [],
   "source": []
  }
 ],
 "metadata": {
  "kernelspec": {
   "display_name": "Python 3",
   "language": "python",
   "name": "python3"
  },
  "language_info": {
   "codemirror_mode": {
    "name": "ipython",
    "version": 3
   },
   "file_extension": ".py",
   "mimetype": "text/x-python",
   "name": "python",
   "nbconvert_exporter": "python",
   "pygments_lexer": "ipython3",
   "version": "3.6.6"
  }
 },
 "nbformat": 4,
 "nbformat_minor": 2
}
